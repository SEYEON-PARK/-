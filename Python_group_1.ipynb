{
  "nbformat": 4,
  "nbformat_minor": 0,
  "metadata": {
    "colab": {
      "name": "Python_group_1.ipynb",
      "provenance": [],
      "authorship_tag": "ABX9TyOoITPbDLLFmEMQGLIcmAZB",
      "include_colab_link": true
    },
    "kernelspec": {
      "name": "python3",
      "display_name": "Python 3"
    }
  },
  "cells": [
    {
      "cell_type": "markdown",
      "metadata": {
        "id": "view-in-github",
        "colab_type": "text"
      },
      "source": [
        "<a href=\"https://colab.research.google.com/github/SEYEON-PARK/-/blob/master/Python_group_1.ipynb\" target=\"_parent\"><img src=\"https://colab.research.google.com/assets/colab-badge.svg\" alt=\"Open In Colab\"/></a>"
      ]
    },
    {
      "cell_type": "code",
      "metadata": {
        "id": "E4QRm0ivq9Ic",
        "outputId": "f3321755-e2d8-424a-ed79-2813a112f85a",
        "colab": {
          "base_uri": "https://localhost:8080/"
        }
      },
      "source": [
        "num=20 #감자의 초기값\n",
        "p=30 #매주 생기는 감자\n",
        "m=-3 #하루에 먹는 감자\n",
        "\n",
        "print(num+52*p+365*m)\n",
        "num+52*p+365*m"
      ],
      "execution_count": null,
      "outputs": [
        {
          "output_type": "stream",
          "text": [
            "485\n"
          ],
          "name": "stdout"
        },
        {
          "output_type": "execute_result",
          "data": {
            "text/plain": [
              "485"
            ]
          },
          "metadata": {
            "tags": []
          },
          "execution_count": 2
        }
      ]
    },
    {
      "cell_type": "code",
      "metadata": {
        "id": "ZY_Z4tiUxNwe",
        "outputId": "28782cc1-3cfc-418e-89b3-9c702f3ccf02",
        "colab": {
          "base_uri": "https://localhost:8080/",
          "height": 123
        }
      },
      "source": [
        "a=input(\"첫 번째 단어를 입력해주세요. : \")\n",
        "b=input(\"두 번째 단어를 입력해주세요. : \")\n",
        "c=input(\"세 번째 단어를 입력해주세요. : \")\n",
        "\n",
        "print(a[0] + b[0] + c[0])\n",
        "print(a[0], b[0] ,c[0])\n",
        "a[0], b[0], c[0]\n",
        "a[0] + b[0] + c[0]"
      ],
      "execution_count": null,
      "outputs": [
        {
          "output_type": "stream",
          "text": [
            "첫 번째 단어를 입력해주세요. : kjl\n",
            "두 번째 단어를 입력해주세요. : gkg\n",
            "세 번째 단어를 입력해주세요. : iu\n",
            "kgi\n",
            "k g i\n"
          ],
          "name": "stdout"
        },
        {
          "output_type": "execute_result",
          "data": {
            "application/vnd.google.colaboratory.intrinsic+json": {
              "type": "string"
            },
            "text/plain": [
              "'kgi'"
            ]
          },
          "metadata": {
            "tags": []
          },
          "execution_count": 6
        }
      ]
    },
    {
      "cell_type": "code",
      "metadata": {
        "id": "pusoH7BW5cVW",
        "outputId": "09a90ba0-e077-42bb-c513-94fa713c60cb",
        "colab": {
          "base_uri": "https://localhost:8080/"
        }
      },
      "source": [
        "price=int(input(\"물건값을 입력하시오 : \"))\n",
        "a=int(input(\"1000원 지폐개수 : \"))\n",
        "b=int(input(\"500원 동전개수 : \"))\n",
        "c=int(input(\"100원 동전개수 : \"))\n",
        "\n",
        "sum=1000*a+500*b+100*c\n",
        "m=sum-price\n",
        "m1=m%500\n",
        "m2=m1%100\n",
        "m3=m2%10\n",
        "\n",
        "print(\"500원= \", m//500, \"100원= \", m1//100, \"10원= \", m2//10, \"1원= \", m3)"
      ],
      "execution_count": null,
      "outputs": [
        {
          "output_type": "stream",
          "text": [
            "물건값을 입력하시오 : 750\n",
            "1000원 지폐개수 : 1\n",
            "500원 동전개수 : 0\n",
            "100원 동전개수 : 0\n",
            "500원=  0 100원=  2 10원=  5 1원=  0\n"
          ],
          "name": "stdout"
        }
      ]
    },
    {
      "cell_type": "code",
      "metadata": {
        "id": "9a84pdfiB5rN",
        "outputId": "66abab64-310b-48a6-db10-f1e5c978403e",
        "colab": {
          "base_uri": "https://localhost:8080/"
        }
      },
      "source": [
        "money=24 #단위 : 달러\n",
        "print(\"예상값 = \", 24*(1+0.06)**3)"
      ],
      "execution_count": null,
      "outputs": [
        {
          "output_type": "stream",
          "text": [
            "예상값 =  203909910275.03284\n"
          ],
          "name": "stdout"
        }
      ]
    }
  ]
}